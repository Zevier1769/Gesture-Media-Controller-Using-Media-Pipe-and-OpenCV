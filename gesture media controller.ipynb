{
 "cells": [
  {
   "cell_type": "code",
   "execution_count": null,
   "id": "d622a32b",
   "metadata": {},
   "outputs": [],
   "source": [
    "##improve this by using left and right hand detection which will help classify if the thumb is open or not \n",
    "##if left hand the run this block of code:\n",
    "  ##      if (lst.landmark[5].y*100 - lst.landmark[8].y*100) > threshold:\n",
    "    #    cnt += 1\n",
    "    #if (lst.landmark[9].y*100 - lst.landmark[12].y*100) > threshold:\n",
    "     #   cnt += 1\n",
    "    #if (lst.landmark[13].y*100 - lst.landmark[16].y*100) > threshold:\n",
    "      #  cnt += 1   \n",
    "    #if (lst.landmark[17].y*100 - lst.landmark[20].y*100) > threshold:\n",
    "     #   cnt += 1\n",
    "    #if (lst.landmark[4].x*100 - lst.landmark[5].x*100) > 5: \n",
    "     #   cnt += 1\n",
    "\n",
    "    #elif i.e if right hand run this block of code:\n",
    "            #if (lst.landmark[5].y*100 - lst.landmark[8].y*100) > threshold:\n",
    "        #cnt += 1\n",
    "    #if (lst.landmark[9].y*100 - lst.landmark[12].y*100) > threshold:\n",
    "     #   cnt += 1\n",
    "    #if (lst.landmark[13].y*100 - lst.landmark[16].y*100) > threshold:\n",
    "     #   cnt += 1   \n",
    "    #if (lst.landmark[17].y*100 - lst.landmark[20].y*100) > threshold:\n",
    "      #  cnt += 1\n",
    "    #if (lst.landmark[5].x*100 - lst.landmark[4].x*100) > 5: \n",
    "     #   cnt += 1\n",
    "##also just dont do it for left and right do it for left back,left front, right back and right front\n",
    "##side note le ft back = right front and right back = left front"
   ]
  },
  {
   "cell_type": "code",
   "execution_count": 1,
   "id": "eeb3192a",
   "metadata": {},
   "outputs": [],
   "source": [
    "import cv2\n",
    "import mediapipe as mp\n",
    "import pyautogui as pag\n",
    "import time"
   ]
  },
  {
   "cell_type": "code",
   "execution_count": 2,
   "id": "700df0cf",
   "metadata": {},
   "outputs": [],
   "source": [
    "def count_fingers(lst):\n",
    "    cnt = 0\n",
    "    \n",
    "    \n",
    "    threshold = (lst.landmark[0].y*100 - lst.landmark[9].y*100)/2\n",
    "    \n",
    "    if (lst.landmark[5].y*100 - lst.landmark[8].y*100) > threshold:\n",
    "        cnt += 1\n",
    "    if (lst.landmark[9].y*100 - lst.landmark[12].y*100) > threshold:\n",
    "        cnt += 1\n",
    "    if (lst.landmark[13].y*100 - lst.landmark[16].y*100) > threshold:\n",
    "        cnt += 1   \n",
    "    if (lst.landmark[17].y*100 - lst.landmark[20].y*100) > threshold:\n",
    "        cnt += 1\n",
    "    if (lst.landmark[4].x*100 - lst.landmark[5].x*100) > 5: \n",
    "        cnt += 1\n",
    "    return cnt"
   ]
  },
  {
   "cell_type": "code",
   "execution_count": 3,
   "id": "b547701b",
   "metadata": {},
   "outputs": [],
   "source": [
    "cap = cv2.VideoCapture(1) ##definig variable to store the camera"
   ]
  },
  {
   "cell_type": "code",
   "execution_count": 4,
   "id": "8aecfa99",
   "metadata": {},
   "outputs": [],
   "source": [
    "drawing  = mp.solutions.drawing_utils #define drawing variable \n",
    "hands = mp.solutions.hands #define hands variable to store the hands from mediapipe\n",
    "hand_obj = hands.Hands(max_num_hands=1)#creating object hand and defineing the number of hands we want mediapipe to detect in one frame as 1 \n",
    "start_init = False\n",
    "prev = -1"
   ]
  },
  {
   "cell_type": "code",
   "execution_count": 5,
   "id": "c86aff69",
   "metadata": {},
   "outputs": [
    {
     "ename": "error",
     "evalue": "OpenCV(4.6.0) D:\\a\\opencv-python\\opencv-python\\opencv\\modules\\imgproc\\src\\color.cpp:182: error: (-215:Assertion failed) !_src.empty() in function 'cv::cvtColor'\n",
     "output_type": "error",
     "traceback": [
      "\u001b[1;31m---------------------------------------------------------------------------\u001b[0m",
      "\u001b[1;31merror\u001b[0m                                     Traceback (most recent call last)",
      "Input \u001b[1;32mIn [5]\u001b[0m, in \u001b[0;36m<cell line: 1>\u001b[1;34m()\u001b[0m\n\u001b[0;32m      3\u001b[0m _, frm \u001b[38;5;241m=\u001b[39m cap\u001b[38;5;241m.\u001b[39mread() \u001b[38;5;66;03m##define the camera window frame\u001b[39;00m\n\u001b[0;32m      4\u001b[0m frm \u001b[38;5;241m=\u001b[39m cv2\u001b[38;5;241m.\u001b[39mflip(frm, \u001b[38;5;241m1\u001b[39m) \u001b[38;5;66;03m##flips the frame so it does not appear mirror like \u001b[39;00m\n\u001b[1;32m----> 6\u001b[0m res \u001b[38;5;241m=\u001b[39m hand_obj\u001b[38;5;241m.\u001b[39mprocess(\u001b[43mcv2\u001b[49m\u001b[38;5;241;43m.\u001b[39;49m\u001b[43mcvtColor\u001b[49m\u001b[43m(\u001b[49m\u001b[43mfrm\u001b[49m\u001b[43m,\u001b[49m\u001b[43m \u001b[49m\u001b[43mcv2\u001b[49m\u001b[38;5;241;43m.\u001b[39;49m\u001b[43mCOLOR_BGR2RGB\u001b[49m\u001b[43m)\u001b[49m)\n\u001b[0;32m      8\u001b[0m \u001b[38;5;28;01mif\u001b[39;00m res\u001b[38;5;241m.\u001b[39mmulti_hand_landmarks:\n\u001b[0;32m     10\u001b[0m     hand_keyPoints \u001b[38;5;241m=\u001b[39m res\u001b[38;5;241m.\u001b[39mmulti_hand_landmarks[\u001b[38;5;241m0\u001b[39m] \n",
      "\u001b[1;31merror\u001b[0m: OpenCV(4.6.0) D:\\a\\opencv-python\\opencv-python\\opencv\\modules\\imgproc\\src\\color.cpp:182: error: (-215:Assertion failed) !_src.empty() in function 'cv::cvtColor'\n"
     ]
    }
   ],
   "source": [
    "while True:\n",
    "    end_time = time.time()\n",
    "    _, frm = cap.read() ##define the camera window frame\n",
    "    frm = cv2.flip(frm, 1) ##flips the frame so it does not appear mirror like \n",
    "    \n",
    "    res = hand_obj.process(cv2.cvtColor(frm, cv2.COLOR_BGR2RGB))\n",
    "    \n",
    "    if res.multi_hand_landmarks:\n",
    "        \n",
    "        hand_keyPoints = res.multi_hand_landmarks[0] \n",
    "        \n",
    "        cnt = count_fingers(hand_keyPoints)\n",
    "        if not(prev==cnt):\n",
    "            if not (start_init):\n",
    "                start_time = time.time()\n",
    "                start_init = True\n",
    "            elif(end_time-start_time) > 1:\n",
    "                if (cnt == 1):\n",
    "                    pag.press(\"right\")\n",
    "                elif (cnt == 2):\n",
    "                    pag.press(\"left\")\n",
    "                elif (cnt == 3):\n",
    "                    pag.press(\"up\")\n",
    "                elif (cnt == 4):\n",
    "                    pag.press(\"down\")\n",
    "                elif (cnt == 5):\n",
    "                    pag.press(\"space\")\n",
    "                    \n",
    "                prev = cnt\n",
    "                start_init = False\n",
    "        \n",
    "        drawing.draw_landmarks(frm, hand_keyPoints, hands.HAND_CONNECTIONS)\n",
    "    \n",
    "    \n",
    "    \n",
    "    cv2.imshow(\"window\", frm)##shows the camera window to the user\n",
    "   \n",
    "    if cv2.waitKey(1) == 27: ##if user presses esc key the camera window frame closes\n",
    "        cv2.destroyAllWindows()\n",
    "        cap.release() ##release the camera window frame to other applications so those applications can use it\n",
    "        break \n",
    "      "
   ]
  },
  {
   "cell_type": "code",
   "execution_count": null,
   "id": "f5ef1fbc",
   "metadata": {},
   "outputs": [],
   "source": []
  }
 ],
 "metadata": {
  "kernelspec": {
   "display_name": "Python 3 (ipykernel)",
   "language": "python",
   "name": "python3"
  },
  "language_info": {
   "codemirror_mode": {
    "name": "ipython",
    "version": 3
   },
   "file_extension": ".py",
   "mimetype": "text/x-python",
   "name": "python",
   "nbconvert_exporter": "python",
   "pygments_lexer": "ipython3",
   "version": "3.10.0"
  }
 },
 "nbformat": 4,
 "nbformat_minor": 5
}
